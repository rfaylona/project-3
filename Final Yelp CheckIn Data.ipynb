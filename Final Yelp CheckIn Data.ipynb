{
 "cells": [
  {
   "cell_type": "code",
   "execution_count": 9,
   "id": "37590839",
   "metadata": {},
   "outputs": [],
   "source": [
    "import json\n",
    "import pandas as pd\n",
    "from datetime import datetime as dt\n",
    "import time"
   ]
  },
  {
   "cell_type": "code",
   "execution_count": 10,
   "id": "270d5a65",
   "metadata": {},
   "outputs": [],
   "source": [
    "t1 = time.time()\n",
    "def check_date(datestring):\n",
    "    start = dt.strptime('2019-01-01','%Y-%m-%d')\n",
    "    end = dt.strptime('2021-01-28','%Y-%m-%d')\n",
    "    string_time = dt.strptime(datestring, \"%Y-%m-%d %H:%M:%S\")\n",
    "    if string_time >= start and string_time <= end:\n",
    "        return datestring\n",
    "\n",
    "def remove_old_dates(datestrings):\n",
    "    return \", \".join([i for i in datestrings.split(\", \") if check_date(i)])"
   ]
  },
  {
   "cell_type": "code",
   "execution_count": 11,
   "id": "f86b197c",
   "metadata": {
    "scrolled": false
   },
   "outputs": [
    {
     "data": {
      "text/html": [
       "<div>\n",
       "<style scoped>\n",
       "    .dataframe tbody tr th:only-of-type {\n",
       "        vertical-align: middle;\n",
       "    }\n",
       "\n",
       "    .dataframe tbody tr th {\n",
       "        vertical-align: top;\n",
       "    }\n",
       "\n",
       "    .dataframe thead th {\n",
       "        text-align: right;\n",
       "    }\n",
       "</style>\n",
       "<table border=\"1\" class=\"dataframe\">\n",
       "  <thead>\n",
       "    <tr style=\"text-align: right;\">\n",
       "      <th></th>\n",
       "      <th>business_id</th>\n",
       "      <th>date</th>\n",
       "    </tr>\n",
       "  </thead>\n",
       "  <tbody>\n",
       "    <tr>\n",
       "      <th>0</th>\n",
       "      <td>--0r8K_AQ4FZfLsX3ZYRDA</td>\n",
       "      <td>2017-09-03 17:13:59</td>\n",
       "    </tr>\n",
       "    <tr>\n",
       "      <th>1</th>\n",
       "      <td>--0zrn43LEaB4jUWTQH_Bg</td>\n",
       "      <td>2010-10-08 22:21:20, 2010-11-01 21:29:14, 2010...</td>\n",
       "    </tr>\n",
       "    <tr>\n",
       "      <th>2</th>\n",
       "      <td>--164t1nclzzmca7eDiJMw</td>\n",
       "      <td>2010-02-26 02:06:53, 2010-02-27 08:00:09, 2010...</td>\n",
       "    </tr>\n",
       "    <tr>\n",
       "      <th>3</th>\n",
       "      <td>--2aF9NhXnNVpDV0KS3xBQ</td>\n",
       "      <td>2014-11-03 16:35:35, 2015-01-30 18:16:03, 2015...</td>\n",
       "    </tr>\n",
       "    <tr>\n",
       "      <th>4</th>\n",
       "      <td>--2mEJ63SC_8_08_jGgVIg</td>\n",
       "      <td>2010-12-15 17:10:46, 2013-12-28 00:27:54, 2015...</td>\n",
       "    </tr>\n",
       "  </tbody>\n",
       "</table>\n",
       "</div>"
      ],
      "text/plain": [
       "              business_id                                               date\n",
       "0  --0r8K_AQ4FZfLsX3ZYRDA                                2017-09-03 17:13:59\n",
       "1  --0zrn43LEaB4jUWTQH_Bg  2010-10-08 22:21:20, 2010-11-01 21:29:14, 2010...\n",
       "2  --164t1nclzzmca7eDiJMw  2010-02-26 02:06:53, 2010-02-27 08:00:09, 2010...\n",
       "3  --2aF9NhXnNVpDV0KS3xBQ  2014-11-03 16:35:35, 2015-01-30 18:16:03, 2015...\n",
       "4  --2mEJ63SC_8_08_jGgVIg  2010-12-15 17:10:46, 2013-12-28 00:27:54, 2015..."
      ]
     },
     "execution_count": 11,
     "metadata": {},
     "output_type": "execute_result"
    }
   ],
   "source": [
    "df = pd.read_json('yelp_academic_dataset_checkin.json', lines=True)\n",
    "\n",
    "df.head()"
   ]
  },
  {
   "cell_type": "code",
   "execution_count": 14,
   "id": "c4f9906a",
   "metadata": {},
   "outputs": [],
   "source": [
    "df['date'] = [remove_old_dates(i) for i in df['date']]"
   ]
  },
  {
   "cell_type": "code",
   "execution_count": 15,
   "id": "d87b1cbe",
   "metadata": {},
   "outputs": [],
   "source": [
    "df_f = df[df['date']!='']"
   ]
  },
  {
   "cell_type": "code",
   "execution_count": 17,
   "id": "cea2584a",
   "metadata": {},
   "outputs": [],
   "source": [
    "j = df_f.to_json('yelp_checkin_data.json',orient=\"records\",lines=True)"
   ]
  },
  {
   "cell_type": "code",
   "execution_count": 18,
   "id": "97af7586",
   "metadata": {},
   "outputs": [],
   "source": [
    "t2 = time.time()"
   ]
  },
  {
   "cell_type": "code",
   "execution_count": 19,
   "id": "63f36f09",
   "metadata": {},
   "outputs": [
    {
     "name": "stdout",
     "output_type": "stream",
     "text": [
      "36974.32853579521\n"
     ]
    }
   ],
   "source": [
    "print(t2-t1)"
   ]
  },
  {
   "cell_type": "code",
   "execution_count": null,
   "id": "c32ea7e1",
   "metadata": {},
   "outputs": [],
   "source": []
  }
 ],
 "metadata": {
  "kernelspec": {
   "display_name": "Python 3",
   "language": "python",
   "name": "python3"
  },
  "language_info": {
   "codemirror_mode": {
    "name": "ipython",
    "version": 3
   },
   "file_extension": ".py",
   "mimetype": "text/x-python",
   "name": "python",
   "nbconvert_exporter": "python",
   "pygments_lexer": "ipython3",
   "version": "3.8.8"
  }
 },
 "nbformat": 4,
 "nbformat_minor": 5
}
