{
 "cells": [
  {
   "cell_type": "code",
   "execution_count": 1,
   "metadata": {},
   "outputs": [],
   "source": [
    "\n",
    "import pandas as pd\n",
    "import matplotlib.pyplot as plt\n",
    "import numpy as np\n",
    "import json\n"
   ]
  },
  {
   "cell_type": "code",
   "execution_count": 2,
   "metadata": {
    "scrolled": true
   },
   "outputs": [],
   "source": [
    "import json\n",
    "\n",
    "json_filename = 'yelp_checkin_data.json'\n",
    "\n",
    "# with open(json_filename) as file:\n",
    "#     array = {'all_locations': []}\n",
    "#     all_locations_list = array['all_locations']\n",
    "#     for line in file:\n",
    "#         obj = json.loads(line)\n",
    "#         all_locations_list.append(obj)\n",
    "\n",
    "# print(json.dumps(array, indent=4))"
   ]
  },
  {
   "cell_type": "code",
   "execution_count": 3,
   "metadata": {},
   "outputs": [
    {
     "name": "stdout",
     "output_type": "stream",
     "text": [
      "<_io.TextIOWrapper name='yelp_checkin_data.json' mode='r' encoding='UTF-8'>\n"
     ]
    }
   ],
   "source": [
    "with open(json_filename) as file:\n",
    "    print(file)"
   ]
  },
  {
   "cell_type": "code",
   "execution_count": null,
   "metadata": {},
   "outputs": [],
   "source": [
    "# Want to break up the cells with checkin data. Each checkin date + time in its own column. Data separated at the comma. \n",
    "# We want to keep only the hour recorded by the checkin. We don't care about the day or month.\n",
    "# Want to count number of checkins at any hour of the day per business id. Columns will be business ID, 6:00, 7:00, 8:00... 20:00, 21:00, 22:00\n",
    "# We also want to count the total number of checkins.\n",
    "# We then want to keep ONLY the 10 most popular restaurants of any cuisine of any of the cities we limited our search to.\n",
    "# Drop all of the other records\n",
    "# This is the final dataset"
   ]
  }
 ],
 "metadata": {
  "kernelspec": {
   "display_name": "Python 3",
   "language": "python",
   "name": "python3"
  },
  "language_info": {
   "codemirror_mode": {
    "name": "ipython",
    "version": 3
   },
   "file_extension": ".py",
   "mimetype": "text/x-python",
   "name": "python",
   "nbconvert_exporter": "python",
   "pygments_lexer": "ipython3",
   "version": "3.6.10"
  }
 },
 "nbformat": 4,
 "nbformat_minor": 2
}
